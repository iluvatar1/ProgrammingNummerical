{
 "cells": [
  {
   "cell_type": "markdown",
   "metadata": {
    "slideshow": {
     "slide_type": "slide"
    }
   },
   "source": [
    "# Python Environment Introduction"
   ]
  },
  {
   "cell_type": "markdown",
   "metadata": {
    "slideshow": {
     "slide_type": "subslide"
    }
   },
   "source": [
    "Python is :\n",
    "\n",
    "* An interpreted and dynamic language\n",
    "* A high level language\n",
    "* A very popular language\n",
    "* Well suited for scientific computing \n",
    "\n",
    "In python, the language takes care (mostly) of the variables types and warns when something does not make sense (like when summing an string with and int). "
   ]
  },
  {
   "cell_type": "markdown",
   "metadata": {
    "slideshow": {
     "slide_type": "slide"
    }
   },
   "source": [
    "There are several ways to start using Python: \n",
    "- **The python interpreter**: Just open a console a console and write `python`. But the interpreter is quite limited.\n",
    "- **ipython** : An enhanced version. Really useful. \n",
    "- **Jupyter (ipython) notebooks**: Full interactive environment, even more useful. In this course we will use mainly ipython and notebooks.\n",
    "- **Python Scripts**: Files with `py` which contains executable code. You can edit them in any editor, like emacs or spyder. Then execute them.\n",
    "\n",
    "Let's try the traditional \"Hello World\" stuff."
   ]
  },
  {
   "cell_type": "markdown",
   "metadata": {
    "slideshow": {
     "slide_type": "slide"
    }
   },
   "source": [
    "# How to execute/use Python code\n",
    "\n",
    "First of all, you need python to be installed. You can either use the python package from your distribution, or download it from [python.org](https://python.org) . *Note:* Try to use version 3 as much as you can.\n",
    "\n",
    "If you want to simplify python package management, have a multi-platform environment and several other tools, use the well know python distributions : [Anaconda](https://www.continuum.io/downloads), or [Canopy](https://www.enthought.com/products/canopy/) (free for academics),  or [Python(X, Y)](https://python-xy.github.io/). Look at them on google. In general, we will use Anaconda, but you can use any of them for your work.\n",
    "\n",
    "Let's now try several ways to interact/use python. "
   ]
  },
  {
   "cell_type": "markdown",
   "metadata": {
    "slideshow": {
     "slide_type": "subslide"
    }
   },
   "source": [
    "## The Python interpreter\n",
    "The python interpreter is very primitive and basically interprets commands as you type them. For example, you can type commands like```print \"Hello World\" ``` and expect the output. \n",
    "\n",
    "Open a console and write python. You should get something similar to:\n",
    "\n",
    "<img src=\"fig/python-interpreter.png\" width=\"500\">\n",
    "\n",
    "There are several commands ran there. Do the same.\n",
    "\n",
    "Since it is much more convenient to use the iPython super-enhanced interpreter, we will not focus here on the bare-bones python interpreter.  \n"
   ]
  },
  {
   "cell_type": "markdown",
   "metadata": {
    "slideshow": {
     "slide_type": "subslide"
    }
   },
   "source": [
    "## iPython\n",
    "iPython is, currently, the standard interactive interpreter. It has many advantages over the original python interpreter, like autocopletion of variables, tight integration with the system commands, history, easy documentation access, etc. From version 5, it also has syntax highlighting, multi-line support, ... \n",
    "\n",
    "To use it, open a console and write `ipython` . You should get something similar to\n",
    "<img src=\"fig/ipython.png\" width=\"600\">\n",
    "\n",
    "Type some commands and experiment. Check that you have access to the command history, autocompletion, and so on. "
   ]
  },
  {
   "cell_type": "markdown",
   "metadata": {
    "slideshow": {
     "slide_type": "subslide"
    }
   },
   "source": [
    "## Python scripts\n",
    "In general, interactive sessions are designed for fast testing and propotyping. But, if you want to store a group of commands for later use (a program), then ypu should save it on Python file, whose termination is ```.py```.\n",
    "\n",
    "**Exercise:** On Spyder, emacs, or even [trinket](http://trinket.io) or [sagemathcloud](https://cloud.sagemath.com/), type some commands and save the file with the appropriate extension (run and download for later use in the case of online services). Then run it as `python filename.py`. \n",
    "\n",
    "You can also load/run the file directly from ipython. You need to use the magic words ```%load``` or ```%run``` . Check the docs and do it. "
   ]
  },
  {
   "cell_type": "markdown",
   "metadata": {
    "slideshow": {
     "slide_type": "subslide"
    }
   },
   "source": [
    "## iPython/Jupyter notebook\n",
    "The ipython notebook, now known as the [Jupyter notebook](http://jupyter.org/), is a very useful way to store python commands, together with notes, figures, and results. Think of it as a complete scientific journal. Currently, you are looking at the result obtained from an jupyter notebook. This is very useful for logs, instructions, manuals, and interactive programming. A jupyter notebook is stored in ```json``` format, which allows to include not only instructions but also command results and even figures. \n",
    "\n",
    "**To execute a given cell, you should use the combination shift+enter.**\n",
    "\n",
    "**Exercise:** Open a jupyter notebook either by using the anaconda launcher or by directly typing `jupyter notebook` on the command line. That will start a server and allow you to create a notebook. Write some commands and some instructions. Save it. Re-open it. "
   ]
  },
  {
   "cell_type": "markdown",
   "metadata": {
    "slideshow": {
     "slide_type": "subslide"
    }
   },
   "source": [
    "## IDE: Spyder/Emacs\n",
    "Spyder is included on the anaconda distribution. This is an integrated development environment which allows editing, running, debugging, etc. of simple and complex (projects) python files. We will use only the very basic but you should get familiar with Spyder to exploit it better. In general, we will switch between notebooks, emacs, spyder, etc.\n"
   ]
  },
  {
   "cell_type": "markdown",
   "metadata": {
    "slideshow": {
     "slide_type": "slide"
    }
   },
   "source": [
    "# Command examples on the notebook"
   ]
  },
  {
   "cell_type": "code",
   "execution_count": 3,
   "metadata": {
    "collapsed": false,
    "slideshow": {
     "slide_type": "subslide"
    }
   },
   "outputs": [
    {
     "name": "stdout",
     "output_type": "stream",
     "text": [
      "Hello World, from python!\n"
     ]
    }
   ],
   "source": [
    "print(\"Hello World, from python!\")"
   ]
  },
  {
   "cell_type": "markdown",
   "metadata": {
    "slideshow": {
     "slide_type": "slide"
    }
   },
   "source": [
    "What is `print` ? It allows to print! of course, printing can be more complex. \n",
    "\n",
    "How to quit from the command prompt? try whatever you think (`quit`, `ctrl+d`, etc)\n",
    "\n",
    "For single or very simple instructions, the python shell interpreter is enough. But, for more complex instructions and or scripts, it is necessary to use a more advanced interpreter with more power. Let's try the ipyhton interpreter! You can use either the command `ipython` or the intepreter right below the editor in canopy, spyder (anaconda), or your prefered IDE.\n",
    "\n",
    "The ipython interpreter is a much more advanced interpreter which allows to get better error reporting, interactive help, magic commands, fast history access, and muhco more. \n",
    "\n",
    "Please try writing a single `?`. What do you get? (you can move with the arrows and exit by pressing `q`)"
   ]
  },
  {
   "cell_type": "code",
   "execution_count": 4,
   "metadata": {
    "collapsed": false,
    "slideshow": {
     "slide_type": "subslide"
    }
   },
   "outputs": [],
   "source": [
    "?"
   ]
  },
  {
   "cell_type": "code",
   "execution_count": 18,
   "metadata": {
    "collapsed": false,
    "slideshow": {
     "slide_type": "subslide"
    }
   },
   "outputs": [
    {
     "data": {
      "text/plain": [
       "<matplotlib.legend.Legend at 0x105937320>"
      ]
     },
     "execution_count": 18,
     "metadata": {},
     "output_type": "execute_result"
    },
    {
     "data": {
      "image/png": "[encoded data removed]",
      "text/plain": [
       "<matplotlib.figure.Figure at 0x10f8c7240>"
      ]
     },
     "metadata": {},
     "output_type": "display_data"
    }
   ],
   "source": [
    "%matplotlib inline\n",
    "import matplotlib.pyplot as plt\n",
    "import numpy as np\n",
    "x = np.linspace(0, 12.4, 100)\n",
    "y = 3.5 + x*np.sin(x)\n",
    "plt.plot(x, y, '-o', label=r\"data, $\\alpha=\\beta^\\gamma$\")\n",
    "plt.legend(fontsize=12)"
   ]
  },
  {
   "cell_type": "markdown",
   "metadata": {
    "slideshow": {
     "slide_type": "slide"
    }
   },
   "source": [
    "Summarizing, there are several ways to use python:\n",
    "\n",
    "* Using the interpreter, `python`\n",
    "* Using the more modern interpreter, `ipython` (always use this by default)\n",
    "* Using an jupyter notebook : either by launching it as `jupyter notebook` which will open your browser at `127.0.0.1:8888`, or by using the editor in any ide (like Canopy, Anaconda-Spyder, etc). Notebooks are saved with the extension `.ipynb`\n",
    "* Writing an script, whose extension should be `.py`\n",
    "\n",
    "In the following, we will use a mix of all of them."
   ]
  },
  {
   "cell_type": "code",
   "execution_count": null,
   "metadata": {
    "collapsed": true
   },
   "outputs": [],
   "source": []
  }
 ],
 "metadata": {
  "anaconda-cloud": {},
  "celltoolbar": "Slideshow",
  "kernelspec": {
   "display_name": "Python [Root]",
   "language": "python",
   "name": "Python [Root]"
  },
  "language_info": {
   "codemirror_mode": {
    "name": "ipython",
    "version": 3
   },
   "file_extension": ".py",
   "mimetype": "text/x-python",
   "name": "python",
   "nbconvert_exporter": "python",
   "pygments_lexer": "ipython3",
   "version": "3.5.2"
  }
 },
 "nbformat": 4,
 "nbformat_minor": 0
}
